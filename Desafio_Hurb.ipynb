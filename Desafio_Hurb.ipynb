{
  "nbformat": 4,
  "nbformat_minor": 0,
  "metadata": {
    "colab": {
      "name": "Desafio_Hurb.ipynb",
      "provenance": [],
      "collapsed_sections": []
    },
    "kernelspec": {
      "name": "python3",
      "display_name": "Python 3"
    },
    "language_info": {
      "name": "python"
    }
  },
  "cells": [
    {
      "cell_type": "code",
      "execution_count": null,
      "metadata": {
        "colab": {
          "base_uri": "https://localhost:8080/"
        },
        "id": "ilT0nVIPWkCv",
        "outputId": "a1b2cff2-e245-42f1-ed22-56a8a81cbabc"
      },
      "outputs": [
        {
          "output_type": "stream",
          "name": "stdout",
          "text": [
            "Requirement already satisfied: apache-beam in /usr/local/lib/python3.7/dist-packages (2.38.0)\n",
            "Requirement already satisfied: fastavro<2,>=0.23.6 in /usr/local/lib/python3.7/dist-packages (from apache-beam) (1.4.11)\n",
            "Requirement already satisfied: requests<3.0.0,>=2.24.0 in /usr/local/lib/python3.7/dist-packages (from apache-beam) (2.27.1)\n",
            "Requirement already satisfied: pydot<2,>=1.2.0 in /usr/local/lib/python3.7/dist-packages (from apache-beam) (1.3.0)\n",
            "Requirement already satisfied: python-dateutil<3,>=2.8.0 in /usr/local/lib/python3.7/dist-packages (from apache-beam) (2.8.2)\n",
            "Requirement already satisfied: numpy<1.23.0,>=1.14.3 in /usr/local/lib/python3.7/dist-packages (from apache-beam) (1.21.6)\n",
            "Requirement already satisfied: proto-plus<2,>=1.7.1 in /usr/local/lib/python3.7/dist-packages (from apache-beam) (1.20.3)\n",
            "Requirement already satisfied: grpcio<2,>=1.29.0 in /usr/local/lib/python3.7/dist-packages (from apache-beam) (1.44.0)\n",
            "Requirement already satisfied: protobuf<4,>=3.12.2 in /usr/local/lib/python3.7/dist-packages (from apache-beam) (3.20.1)\n",
            "Requirement already satisfied: pytz>=2018.3 in /usr/local/lib/python3.7/dist-packages (from apache-beam) (2022.1)\n",
            "Requirement already satisfied: crcmod<2.0,>=1.7 in /usr/local/lib/python3.7/dist-packages (from apache-beam) (1.7)\n",
            "Requirement already satisfied: pyarrow<7.0.0,>=0.15.1 in /usr/local/lib/python3.7/dist-packages (from apache-beam) (6.0.1)\n",
            "Requirement already satisfied: httplib2<0.20.0,>=0.8 in /usr/local/lib/python3.7/dist-packages (from apache-beam) (0.17.4)\n",
            "Requirement already satisfied: hdfs<3.0.0,>=2.1.0 in /usr/local/lib/python3.7/dist-packages (from apache-beam) (2.7.0)\n",
            "Requirement already satisfied: typing-extensions>=3.7.0 in /usr/local/lib/python3.7/dist-packages (from apache-beam) (4.2.0)\n",
            "Requirement already satisfied: oauth2client<5,>=2.0.1 in /usr/local/lib/python3.7/dist-packages (from apache-beam) (4.1.3)\n",
            "Requirement already satisfied: cloudpickle<3,>=2.0.0 in /usr/local/lib/python3.7/dist-packages (from apache-beam) (2.0.0)\n",
            "Requirement already satisfied: dill<0.3.2,>=0.3.1.1 in /usr/local/lib/python3.7/dist-packages (from apache-beam) (0.3.1.1)\n",
            "Requirement already satisfied: pymongo<4.0.0,>=3.8.0 in /usr/local/lib/python3.7/dist-packages (from apache-beam) (3.12.3)\n",
            "Requirement already satisfied: orjson<4.0 in /usr/local/lib/python3.7/dist-packages (from apache-beam) (3.6.8)\n",
            "Requirement already satisfied: six>=1.5.2 in /usr/local/lib/python3.7/dist-packages (from grpcio<2,>=1.29.0->apache-beam) (1.15.0)\n",
            "Requirement already satisfied: docopt in /usr/local/lib/python3.7/dist-packages (from hdfs<3.0.0,>=2.1.0->apache-beam) (0.6.2)\n",
            "Requirement already satisfied: pyasn1-modules>=0.0.5 in /usr/local/lib/python3.7/dist-packages (from oauth2client<5,>=2.0.1->apache-beam) (0.2.8)\n",
            "Requirement already satisfied: pyasn1>=0.1.7 in /usr/local/lib/python3.7/dist-packages (from oauth2client<5,>=2.0.1->apache-beam) (0.4.8)\n",
            "Requirement already satisfied: rsa>=3.1.4 in /usr/local/lib/python3.7/dist-packages (from oauth2client<5,>=2.0.1->apache-beam) (4.8)\n",
            "Requirement already satisfied: pyparsing>=2.1.4 in /usr/local/lib/python3.7/dist-packages (from pydot<2,>=1.2.0->apache-beam) (3.0.8)\n",
            "Requirement already satisfied: urllib3<1.27,>=1.21.1 in /usr/local/lib/python3.7/dist-packages (from requests<3.0.0,>=2.24.0->apache-beam) (1.24.3)\n",
            "Requirement already satisfied: idna<4,>=2.5 in /usr/local/lib/python3.7/dist-packages (from requests<3.0.0,>=2.24.0->apache-beam) (2.10)\n",
            "Requirement already satisfied: charset-normalizer~=2.0.0 in /usr/local/lib/python3.7/dist-packages (from requests<3.0.0,>=2.24.0->apache-beam) (2.0.12)\n",
            "Requirement already satisfied: certifi>=2017.4.17 in /usr/local/lib/python3.7/dist-packages (from requests<3.0.0,>=2.24.0->apache-beam) (2021.10.8)\n"
          ]
        }
      ],
      "source": [
        "# Instala o Apache Beam\n",
        "!pip install apache-beam"
      ]
    },
    {
      "cell_type": "code",
      "source": [
        "# Instala o módulo Dataframe do Apache beam\n",
        "!pip install apache-beam[dataframe]"
      ],
      "metadata": {
        "colab": {
          "base_uri": "https://localhost:8080/"
        },
        "id": "tNm_iGogWq4A",
        "outputId": "ac94bcac-1e2a-4428-b745-812ee87d28bf"
      },
      "execution_count": null,
      "outputs": [
        {
          "output_type": "stream",
          "name": "stdout",
          "text": [
            "Requirement already satisfied: apache-beam[dataframe] in /usr/local/lib/python3.7/dist-packages (2.38.0)\n",
            "Requirement already satisfied: typing-extensions>=3.7.0 in /usr/local/lib/python3.7/dist-packages (from apache-beam[dataframe]) (4.2.0)\n",
            "Requirement already satisfied: proto-plus<2,>=1.7.1 in /usr/local/lib/python3.7/dist-packages (from apache-beam[dataframe]) (1.20.3)\n",
            "Requirement already satisfied: protobuf<4,>=3.12.2 in /usr/local/lib/python3.7/dist-packages (from apache-beam[dataframe]) (3.20.1)\n",
            "Requirement already satisfied: python-dateutil<3,>=2.8.0 in /usr/local/lib/python3.7/dist-packages (from apache-beam[dataframe]) (2.8.2)\n",
            "Requirement already satisfied: crcmod<2.0,>=1.7 in /usr/local/lib/python3.7/dist-packages (from apache-beam[dataframe]) (1.7)\n",
            "Requirement already satisfied: numpy<1.23.0,>=1.14.3 in /usr/local/lib/python3.7/dist-packages (from apache-beam[dataframe]) (1.21.6)\n",
            "Requirement already satisfied: requests<3.0.0,>=2.24.0 in /usr/local/lib/python3.7/dist-packages (from apache-beam[dataframe]) (2.27.1)\n",
            "Requirement already satisfied: oauth2client<5,>=2.0.1 in /usr/local/lib/python3.7/dist-packages (from apache-beam[dataframe]) (4.1.3)\n",
            "Requirement already satisfied: orjson<4.0 in /usr/local/lib/python3.7/dist-packages (from apache-beam[dataframe]) (3.6.8)\n",
            "Requirement already satisfied: pytz>=2018.3 in /usr/local/lib/python3.7/dist-packages (from apache-beam[dataframe]) (2022.1)\n",
            "Requirement already satisfied: httplib2<0.20.0,>=0.8 in /usr/local/lib/python3.7/dist-packages (from apache-beam[dataframe]) (0.17.4)\n",
            "Requirement already satisfied: cloudpickle<3,>=2.0.0 in /usr/local/lib/python3.7/dist-packages (from apache-beam[dataframe]) (2.0.0)\n",
            "Requirement already satisfied: pydot<2,>=1.2.0 in /usr/local/lib/python3.7/dist-packages (from apache-beam[dataframe]) (1.3.0)\n",
            "Requirement already satisfied: dill<0.3.2,>=0.3.1.1 in /usr/local/lib/python3.7/dist-packages (from apache-beam[dataframe]) (0.3.1.1)\n",
            "Requirement already satisfied: hdfs<3.0.0,>=2.1.0 in /usr/local/lib/python3.7/dist-packages (from apache-beam[dataframe]) (2.7.0)\n",
            "Requirement already satisfied: pyarrow<7.0.0,>=0.15.1 in /usr/local/lib/python3.7/dist-packages (from apache-beam[dataframe]) (6.0.1)\n",
            "Requirement already satisfied: pymongo<4.0.0,>=3.8.0 in /usr/local/lib/python3.7/dist-packages (from apache-beam[dataframe]) (3.12.3)\n",
            "Requirement already satisfied: fastavro<2,>=0.23.6 in /usr/local/lib/python3.7/dist-packages (from apache-beam[dataframe]) (1.4.11)\n",
            "Requirement already satisfied: grpcio<2,>=1.29.0 in /usr/local/lib/python3.7/dist-packages (from apache-beam[dataframe]) (1.44.0)\n",
            "Requirement already satisfied: pandas<1.5,>=1.0 in /usr/local/lib/python3.7/dist-packages (from apache-beam[dataframe]) (1.3.5)\n",
            "Requirement already satisfied: six>=1.5.2 in /usr/local/lib/python3.7/dist-packages (from grpcio<2,>=1.29.0->apache-beam[dataframe]) (1.15.0)\n",
            "Requirement already satisfied: docopt in /usr/local/lib/python3.7/dist-packages (from hdfs<3.0.0,>=2.1.0->apache-beam[dataframe]) (0.6.2)\n",
            "Requirement already satisfied: pyasn1>=0.1.7 in /usr/local/lib/python3.7/dist-packages (from oauth2client<5,>=2.0.1->apache-beam[dataframe]) (0.4.8)\n",
            "Requirement already satisfied: rsa>=3.1.4 in /usr/local/lib/python3.7/dist-packages (from oauth2client<5,>=2.0.1->apache-beam[dataframe]) (4.8)\n",
            "Requirement already satisfied: pyasn1-modules>=0.0.5 in /usr/local/lib/python3.7/dist-packages (from oauth2client<5,>=2.0.1->apache-beam[dataframe]) (0.2.8)\n",
            "Requirement already satisfied: pyparsing>=2.1.4 in /usr/local/lib/python3.7/dist-packages (from pydot<2,>=1.2.0->apache-beam[dataframe]) (3.0.8)\n",
            "Requirement already satisfied: certifi>=2017.4.17 in /usr/local/lib/python3.7/dist-packages (from requests<3.0.0,>=2.24.0->apache-beam[dataframe]) (2021.10.8)\n",
            "Requirement already satisfied: idna<4,>=2.5 in /usr/local/lib/python3.7/dist-packages (from requests<3.0.0,>=2.24.0->apache-beam[dataframe]) (2.10)\n",
            "Requirement already satisfied: urllib3<1.27,>=1.21.1 in /usr/local/lib/python3.7/dist-packages (from requests<3.0.0,>=2.24.0->apache-beam[dataframe]) (1.24.3)\n",
            "Requirement already satisfied: charset-normalizer~=2.0.0 in /usr/local/lib/python3.7/dist-packages (from requests<3.0.0,>=2.24.0->apache-beam[dataframe]) (2.0.12)\n"
          ]
        }
      ]
    },
    {
      "cell_type": "code",
      "source": [
        "# Instala o módulo Interactive Beam do Apache Beam\n",
        "!pip install apache-beam[interactive]"
      ],
      "metadata": {
        "colab": {
          "base_uri": "https://localhost:8080/"
        },
        "id": "t_p6FtUNWt2-",
        "outputId": "733f0731-6873-4f86-d112-f9c15d507716"
      },
      "execution_count": null,
      "outputs": [
        {
          "output_type": "stream",
          "name": "stdout",
          "text": [
            "Requirement already satisfied: apache-beam[interactive] in /usr/local/lib/python3.7/dist-packages (2.38.0)\n",
            "Requirement already satisfied: hdfs<3.0.0,>=2.1.0 in /usr/local/lib/python3.7/dist-packages (from apache-beam[interactive]) (2.7.0)\n",
            "Requirement already satisfied: pyarrow<7.0.0,>=0.15.1 in /usr/local/lib/python3.7/dist-packages (from apache-beam[interactive]) (6.0.1)\n",
            "Requirement already satisfied: numpy<1.23.0,>=1.14.3 in /usr/local/lib/python3.7/dist-packages (from apache-beam[interactive]) (1.21.6)\n",
            "Requirement already satisfied: typing-extensions>=3.7.0 in /usr/local/lib/python3.7/dist-packages (from apache-beam[interactive]) (4.2.0)\n",
            "Requirement already satisfied: requests<3.0.0,>=2.24.0 in /usr/local/lib/python3.7/dist-packages (from apache-beam[interactive]) (2.27.1)\n",
            "Requirement already satisfied: fastavro<2,>=0.23.6 in /usr/local/lib/python3.7/dist-packages (from apache-beam[interactive]) (1.4.11)\n",
            "Requirement already satisfied: oauth2client<5,>=2.0.1 in /usr/local/lib/python3.7/dist-packages (from apache-beam[interactive]) (4.1.3)\n",
            "Requirement already satisfied: grpcio<2,>=1.29.0 in /usr/local/lib/python3.7/dist-packages (from apache-beam[interactive]) (1.44.0)\n",
            "Requirement already satisfied: httplib2<0.20.0,>=0.8 in /usr/local/lib/python3.7/dist-packages (from apache-beam[interactive]) (0.17.4)\n",
            "Requirement already satisfied: orjson<4.0 in /usr/local/lib/python3.7/dist-packages (from apache-beam[interactive]) (3.6.8)\n",
            "Requirement already satisfied: pydot<2,>=1.2.0 in /usr/local/lib/python3.7/dist-packages (from apache-beam[interactive]) (1.3.0)\n",
            "Requirement already satisfied: proto-plus<2,>=1.7.1 in /usr/local/lib/python3.7/dist-packages (from apache-beam[interactive]) (1.20.3)\n",
            "Requirement already satisfied: crcmod<2.0,>=1.7 in /usr/local/lib/python3.7/dist-packages (from apache-beam[interactive]) (1.7)\n",
            "Requirement already satisfied: dill<0.3.2,>=0.3.1.1 in /usr/local/lib/python3.7/dist-packages (from apache-beam[interactive]) (0.3.1.1)\n",
            "Requirement already satisfied: pymongo<4.0.0,>=3.8.0 in /usr/local/lib/python3.7/dist-packages (from apache-beam[interactive]) (3.12.3)\n",
            "Requirement already satisfied: protobuf<4,>=3.12.2 in /usr/local/lib/python3.7/dist-packages (from apache-beam[interactive]) (3.20.1)\n",
            "Requirement already satisfied: pytz>=2018.3 in /usr/local/lib/python3.7/dist-packages (from apache-beam[interactive]) (2022.1)\n",
            "Requirement already satisfied: python-dateutil<3,>=2.8.0 in /usr/local/lib/python3.7/dist-packages (from apache-beam[interactive]) (2.8.2)\n",
            "Requirement already satisfied: cloudpickle<3,>=2.0.0 in /usr/local/lib/python3.7/dist-packages (from apache-beam[interactive]) (2.0.0)\n",
            "Requirement already satisfied: google-cloud-dataproc<3.2.0,>=3.0.0 in /usr/local/lib/python3.7/dist-packages (from apache-beam[interactive]) (3.1.1)\n",
            "Requirement already satisfied: ipython<8,>=7 in /usr/local/lib/python3.7/dist-packages (from apache-beam[interactive]) (7.33.0)\n",
            "Requirement already satisfied: jupyter-client<6.1.13,>=6.1.11 in /usr/local/lib/python3.7/dist-packages (from apache-beam[interactive]) (6.1.12)\n",
            "Requirement already satisfied: ipykernel<6,>=5.2.0 in /usr/local/lib/python3.7/dist-packages (from apache-beam[interactive]) (5.5.6)\n",
            "Requirement already satisfied: facets-overview<2,>=1.0.0 in /usr/local/lib/python3.7/dist-packages (from apache-beam[interactive]) (1.0.0)\n",
            "Requirement already satisfied: ipywidgets<8,>=7.6.5 in /usr/local/lib/python3.7/dist-packages (from apache-beam[interactive]) (7.7.0)\n",
            "Requirement already satisfied: timeloop<2,>=1.0.2 in /usr/local/lib/python3.7/dist-packages (from apache-beam[interactive]) (1.0.2)\n",
            "Requirement already satisfied: pandas>=0.22.0 in /usr/local/lib/python3.7/dist-packages (from facets-overview<2,>=1.0.0->apache-beam[interactive]) (1.3.5)\n",
            "Requirement already satisfied: google-api-core[grpc]<3.0.0dev,>=1.28.0 in /usr/local/lib/python3.7/dist-packages (from google-cloud-dataproc<3.2.0,>=3.0.0->apache-beam[interactive]) (1.31.5)\n",
            "Requirement already satisfied: packaging>=14.3 in /usr/local/lib/python3.7/dist-packages (from google-api-core[grpc]<3.0.0dev,>=1.28.0->google-cloud-dataproc<3.2.0,>=3.0.0->apache-beam[interactive]) (21.3)\n",
            "Requirement already satisfied: googleapis-common-protos<2.0dev,>=1.6.0 in /usr/local/lib/python3.7/dist-packages (from google-api-core[grpc]<3.0.0dev,>=1.28.0->google-cloud-dataproc<3.2.0,>=3.0.0->apache-beam[interactive]) (1.56.0)\n",
            "Requirement already satisfied: six>=1.13.0 in /usr/local/lib/python3.7/dist-packages (from google-api-core[grpc]<3.0.0dev,>=1.28.0->google-cloud-dataproc<3.2.0,>=3.0.0->apache-beam[interactive]) (1.15.0)\n",
            "Requirement already satisfied: google-auth<2.0dev,>=1.25.0 in /usr/local/lib/python3.7/dist-packages (from google-api-core[grpc]<3.0.0dev,>=1.28.0->google-cloud-dataproc<3.2.0,>=3.0.0->apache-beam[interactive]) (1.35.0)\n",
            "Requirement already satisfied: setuptools>=40.3.0 in /usr/local/lib/python3.7/dist-packages (from google-api-core[grpc]<3.0.0dev,>=1.28.0->google-cloud-dataproc<3.2.0,>=3.0.0->apache-beam[interactive]) (57.4.0)\n",
            "Requirement already satisfied: pyasn1-modules>=0.2.1 in /usr/local/lib/python3.7/dist-packages (from google-auth<2.0dev,>=1.25.0->google-api-core[grpc]<3.0.0dev,>=1.28.0->google-cloud-dataproc<3.2.0,>=3.0.0->apache-beam[interactive]) (0.2.8)\n",
            "Requirement already satisfied: rsa<5,>=3.1.4 in /usr/local/lib/python3.7/dist-packages (from google-auth<2.0dev,>=1.25.0->google-api-core[grpc]<3.0.0dev,>=1.28.0->google-cloud-dataproc<3.2.0,>=3.0.0->apache-beam[interactive]) (4.8)\n",
            "Requirement already satisfied: cachetools<5.0,>=2.0.0 in /usr/local/lib/python3.7/dist-packages (from google-auth<2.0dev,>=1.25.0->google-api-core[grpc]<3.0.0dev,>=1.28.0->google-cloud-dataproc<3.2.0,>=3.0.0->apache-beam[interactive]) (4.2.4)\n",
            "Requirement already satisfied: docopt in /usr/local/lib/python3.7/dist-packages (from hdfs<3.0.0,>=2.1.0->apache-beam[interactive]) (0.6.2)\n",
            "Requirement already satisfied: traitlets>=4.1.0 in /usr/local/lib/python3.7/dist-packages (from ipykernel<6,>=5.2.0->apache-beam[interactive]) (5.1.1)\n",
            "Requirement already satisfied: tornado>=4.2 in /usr/local/lib/python3.7/dist-packages (from ipykernel<6,>=5.2.0->apache-beam[interactive]) (5.1.1)\n",
            "Requirement already satisfied: ipython-genutils in /usr/local/lib/python3.7/dist-packages (from ipykernel<6,>=5.2.0->apache-beam[interactive]) (0.2.0)\n",
            "Requirement already satisfied: decorator in /usr/local/lib/python3.7/dist-packages (from ipython<8,>=7->apache-beam[interactive]) (4.4.2)\n",
            "Requirement already satisfied: pygments in /usr/local/lib/python3.7/dist-packages (from ipython<8,>=7->apache-beam[interactive]) (2.6.1)\n",
            "Requirement already satisfied: pickleshare in /usr/local/lib/python3.7/dist-packages (from ipython<8,>=7->apache-beam[interactive]) (0.7.5)\n",
            "Requirement already satisfied: matplotlib-inline in /usr/local/lib/python3.7/dist-packages (from ipython<8,>=7->apache-beam[interactive]) (0.1.3)\n",
            "Requirement already satisfied: jedi>=0.16 in /usr/local/lib/python3.7/dist-packages (from ipython<8,>=7->apache-beam[interactive]) (0.18.1)\n",
            "Requirement already satisfied: prompt-toolkit!=3.0.0,!=3.0.1,<3.1.0,>=2.0.0 in /usr/local/lib/python3.7/dist-packages (from ipython<8,>=7->apache-beam[interactive]) (3.0.29)\n",
            "Requirement already satisfied: backcall in /usr/local/lib/python3.7/dist-packages (from ipython<8,>=7->apache-beam[interactive]) (0.2.0)\n",
            "Requirement already satisfied: pexpect>4.3 in /usr/local/lib/python3.7/dist-packages (from ipython<8,>=7->apache-beam[interactive]) (4.8.0)\n",
            "Requirement already satisfied: widgetsnbextension~=3.6.0 in /usr/local/lib/python3.7/dist-packages (from ipywidgets<8,>=7.6.5->apache-beam[interactive]) (3.6.0)\n",
            "Requirement already satisfied: jupyterlab-widgets>=1.0.0 in /usr/local/lib/python3.7/dist-packages (from ipywidgets<8,>=7.6.5->apache-beam[interactive]) (1.1.0)\n",
            "Requirement already satisfied: nbformat>=4.2.0 in /usr/local/lib/python3.7/dist-packages (from ipywidgets<8,>=7.6.5->apache-beam[interactive]) (5.3.0)\n",
            "Requirement already satisfied: parso<0.9.0,>=0.8.0 in /usr/local/lib/python3.7/dist-packages (from jedi>=0.16->ipython<8,>=7->apache-beam[interactive]) (0.8.3)\n",
            "Requirement already satisfied: pyzmq>=13 in /usr/local/lib/python3.7/dist-packages (from jupyter-client<6.1.13,>=6.1.11->apache-beam[interactive]) (22.3.0)\n",
            "Requirement already satisfied: jupyter-core>=4.6.0 in /usr/local/lib/python3.7/dist-packages (from jupyter-client<6.1.13,>=6.1.11->apache-beam[interactive]) (4.10.0)\n",
            "Requirement already satisfied: fastjsonschema in /usr/local/lib/python3.7/dist-packages (from nbformat>=4.2.0->ipywidgets<8,>=7.6.5->apache-beam[interactive]) (2.15.3)\n",
            "Requirement already satisfied: jsonschema>=2.6 in /usr/local/lib/python3.7/dist-packages (from nbformat>=4.2.0->ipywidgets<8,>=7.6.5->apache-beam[interactive]) (4.3.3)\n",
            "Requirement already satisfied: importlib-metadata in /usr/local/lib/python3.7/dist-packages (from jsonschema>=2.6->nbformat>=4.2.0->ipywidgets<8,>=7.6.5->apache-beam[interactive]) (4.11.3)\n",
            "Requirement already satisfied: attrs>=17.4.0 in /usr/local/lib/python3.7/dist-packages (from jsonschema>=2.6->nbformat>=4.2.0->ipywidgets<8,>=7.6.5->apache-beam[interactive]) (21.4.0)\n",
            "Requirement already satisfied: pyrsistent!=0.17.0,!=0.17.1,!=0.17.2,>=0.14.0 in /usr/local/lib/python3.7/dist-packages (from jsonschema>=2.6->nbformat>=4.2.0->ipywidgets<8,>=7.6.5->apache-beam[interactive]) (0.18.1)\n",
            "Requirement already satisfied: importlib-resources>=1.4.0 in /usr/local/lib/python3.7/dist-packages (from jsonschema>=2.6->nbformat>=4.2.0->ipywidgets<8,>=7.6.5->apache-beam[interactive]) (5.7.1)\n",
            "Requirement already satisfied: zipp>=3.1.0 in /usr/local/lib/python3.7/dist-packages (from importlib-resources>=1.4.0->jsonschema>=2.6->nbformat>=4.2.0->ipywidgets<8,>=7.6.5->apache-beam[interactive]) (3.8.0)\n",
            "Requirement already satisfied: pyasn1>=0.1.7 in /usr/local/lib/python3.7/dist-packages (from oauth2client<5,>=2.0.1->apache-beam[interactive]) (0.4.8)\n",
            "Requirement already satisfied: pyparsing!=3.0.5,>=2.0.2 in /usr/local/lib/python3.7/dist-packages (from packaging>=14.3->google-api-core[grpc]<3.0.0dev,>=1.28.0->google-cloud-dataproc<3.2.0,>=3.0.0->apache-beam[interactive]) (3.0.8)\n",
            "Requirement already satisfied: ptyprocess>=0.5 in /usr/local/lib/python3.7/dist-packages (from pexpect>4.3->ipython<8,>=7->apache-beam[interactive]) (0.7.0)\n",
            "Requirement already satisfied: wcwidth in /usr/local/lib/python3.7/dist-packages (from prompt-toolkit!=3.0.0,!=3.0.1,<3.1.0,>=2.0.0->ipython<8,>=7->apache-beam[interactive]) (0.2.5)\n",
            "Requirement already satisfied: idna<4,>=2.5 in /usr/local/lib/python3.7/dist-packages (from requests<3.0.0,>=2.24.0->apache-beam[interactive]) (2.10)\n",
            "Requirement already satisfied: certifi>=2017.4.17 in /usr/local/lib/python3.7/dist-packages (from requests<3.0.0,>=2.24.0->apache-beam[interactive]) (2021.10.8)\n",
            "Requirement already satisfied: urllib3<1.27,>=1.21.1 in /usr/local/lib/python3.7/dist-packages (from requests<3.0.0,>=2.24.0->apache-beam[interactive]) (1.24.3)\n",
            "Requirement already satisfied: charset-normalizer~=2.0.0 in /usr/local/lib/python3.7/dist-packages (from requests<3.0.0,>=2.24.0->apache-beam[interactive]) (2.0.12)\n",
            "Requirement already satisfied: notebook>=4.4.1 in /usr/local/lib/python3.7/dist-packages (from widgetsnbextension~=3.6.0->ipywidgets<8,>=7.6.5->apache-beam[interactive]) (5.3.1)\n",
            "Requirement already satisfied: jinja2 in /usr/local/lib/python3.7/dist-packages (from notebook>=4.4.1->widgetsnbextension~=3.6.0->ipywidgets<8,>=7.6.5->apache-beam[interactive]) (2.11.3)\n",
            "Requirement already satisfied: Send2Trash in /usr/local/lib/python3.7/dist-packages (from notebook>=4.4.1->widgetsnbextension~=3.6.0->ipywidgets<8,>=7.6.5->apache-beam[interactive]) (1.8.0)\n",
            "Requirement already satisfied: terminado>=0.8.1 in /usr/local/lib/python3.7/dist-packages (from notebook>=4.4.1->widgetsnbextension~=3.6.0->ipywidgets<8,>=7.6.5->apache-beam[interactive]) (0.13.3)\n",
            "Requirement already satisfied: nbconvert in /usr/local/lib/python3.7/dist-packages (from notebook>=4.4.1->widgetsnbextension~=3.6.0->ipywidgets<8,>=7.6.5->apache-beam[interactive]) (5.6.1)\n",
            "Requirement already satisfied: MarkupSafe>=0.23 in /usr/local/lib/python3.7/dist-packages (from jinja2->notebook>=4.4.1->widgetsnbextension~=3.6.0->ipywidgets<8,>=7.6.5->apache-beam[interactive]) (2.0.1)\n",
            "Requirement already satisfied: bleach in /usr/local/lib/python3.7/dist-packages (from nbconvert->notebook>=4.4.1->widgetsnbextension~=3.6.0->ipywidgets<8,>=7.6.5->apache-beam[interactive]) (5.0.0)\n",
            "Requirement already satisfied: defusedxml in /usr/local/lib/python3.7/dist-packages (from nbconvert->notebook>=4.4.1->widgetsnbextension~=3.6.0->ipywidgets<8,>=7.6.5->apache-beam[interactive]) (0.7.1)\n",
            "Requirement already satisfied: pandocfilters>=1.4.1 in /usr/local/lib/python3.7/dist-packages (from nbconvert->notebook>=4.4.1->widgetsnbextension~=3.6.0->ipywidgets<8,>=7.6.5->apache-beam[interactive]) (1.5.0)\n",
            "Requirement already satisfied: mistune<2,>=0.8.1 in /usr/local/lib/python3.7/dist-packages (from nbconvert->notebook>=4.4.1->widgetsnbextension~=3.6.0->ipywidgets<8,>=7.6.5->apache-beam[interactive]) (0.8.4)\n",
            "Requirement already satisfied: entrypoints>=0.2.2 in /usr/local/lib/python3.7/dist-packages (from nbconvert->notebook>=4.4.1->widgetsnbextension~=3.6.0->ipywidgets<8,>=7.6.5->apache-beam[interactive]) (0.4)\n",
            "Requirement already satisfied: testpath in /usr/local/lib/python3.7/dist-packages (from nbconvert->notebook>=4.4.1->widgetsnbextension~=3.6.0->ipywidgets<8,>=7.6.5->apache-beam[interactive]) (0.6.0)\n",
            "Requirement already satisfied: webencodings in /usr/local/lib/python3.7/dist-packages (from bleach->nbconvert->notebook>=4.4.1->widgetsnbextension~=3.6.0->ipywidgets<8,>=7.6.5->apache-beam[interactive]) (0.5.1)\n"
          ]
        }
      ]
    },
    {
      "cell_type": "code",
      "source": [
        "# Importa as bibliotecas usadas \n",
        "import apache_beam as beam\n",
        "from apache_beam import dataframe\n",
        "import apache_beam.runners.interactive.interactive_beam as ib\n",
        "from apache_beam.runners.interactive.interactive_runner import InteractiveRunner"
      ],
      "metadata": {
        "id": "Uv8kM7vPXBeq"
      },
      "execution_count": null,
      "outputs": []
    },
    {
      "cell_type": "code",
      "source": [
        "# Cria o objeto pipeline usando o Interactive Runner\n",
        "pipeline = beam.Pipeline(InteractiveRunner())\n",
        "\n",
        "# Pipeline que lê cada arquivo CSV como um Beam Dataframe\n",
        "df_estados_ibge = (pipeline | 'Read first CSV file' >> beam.dataframe.io.read_csv('/content/input/EstadosIBGE.csv', encoding='UTF-8', sep=';'))\n",
        "df_vendas_por_dia = (pipeline | 'Read second CSV file' >> beam.dataframe.io.read_csv('/content/input/Vendas_por_dia.csv', encoding='UTF-8', sep=';'))\n",
        "\n",
        "# Permite realizar operações não paralelas com dataframes\n",
        "with dataframe.allow_non_parallel_operations():\n",
        "\n",
        "    # Cria um novo dataframe juntando o conteúdo dos dois beam dataframes criados, resetando o índice\n",
        "    df = df_vendas_por_dia.reset_index(drop=True).join(df_estados_ibge)\n",
        "\n",
        "    # Renomeia a coluna 'UF [-]' do dataframe para 'Estado'\n",
        "    df = df.rename(columns={'UF [-]': 'Estado'})\n",
        "\n",
        "    # Remove todas as colunas não desejadas do dataframe\n",
        "    df = df.drop(['Código [-]', 'Gentílico [-]', 'Governador [2019]', 'Capital [2010]',\n",
        "                  'Área Territorial - km² [2019]', 'População estimada - pessoas [2020]',\n",
        "                  'Densidade demográfica - hab/km² [2010]', 'Matrículas no ensino fundamental - matrículas [2018]',\n",
        "                  'IDH <span>Índice de desenvolvimento humano</span> [2010]',\n",
        "                  'Receitas realizadas - R$ (×1000) [2017]', 'Despesas empenhadas - R$ (×1000) [2017]',\n",
        "                  'Rendimento mensal domiciliar per capita - R$ [2019]', 'Total de veículos - veículos [2018]'], axis=1)\n",
        "\n",
        "    # Simula um Pandas DataFrame para realizar transformações com pandas\n",
        "    df = ib.collect(df)\n",
        "\n",
        "    # Filtra e substitui os valores de NaN pelos estados de acordo com os valores da coluna 'UF'\n",
        "    filtro_AC = (df['UF'] == 'AC')\n",
        "    df.loc[filtro_AC, 'Estado'] = 'Acre'\n",
        "\n",
        "    filtro_AL = (df['UF'] == 'AL')\n",
        "    df.loc[filtro_AL, 'Estado'] = 'Alagoas'\n",
        "\n",
        "    filtro_AP = (df['UF'] == 'AP')\n",
        "    df.loc[filtro_AP, 'Estado'] = 'Amapá'\n",
        "\n",
        "    filtro_AM = (df['UF'] == 'AM')\n",
        "    df.loc[filtro_AM, 'Estado'] = 'Amazonas'\n",
        "\n",
        "    filtro_BA = (df['UF'] == 'BA')\n",
        "    df.loc[filtro_BA, 'Estado'] = 'Bahia'\n",
        "\n",
        "    filtro_CE = (df['UF'] == 'CE')\n",
        "    df.loc[filtro_CE, 'Estado'] = 'Ceará'\n",
        "\n",
        "    filtro_DF = (df['UF'] == 'DF')\n",
        "    df.loc[filtro_DF, 'Estado'] = 'Distrito Federal'\n",
        "\n",
        "    filtro_ES = (df['UF'] == 'ES')\n",
        "    df.loc[filtro_ES, 'Estado'] = 'Espírito Santo'\n",
        "\n",
        "    filtro_GO = (df['UF'] == 'GO')\n",
        "    df.loc[filtro_GO, 'Estado'] = 'Goiás'\n",
        "\n",
        "    filtro_MA = (df['UF'] == 'MA')\n",
        "    df.loc[filtro_MA, 'Estado'] = 'Maranhão'\n",
        "\n",
        "    filtro_MT = (df['UF'] == 'MT')\n",
        "    df.loc[filtro_MT, 'Estado'] = 'Mato Grosso'\n",
        "\n",
        "    filtro_MS = (df['UF'] == 'MS')\n",
        "    df.loc[filtro_MS, 'Estado'] = 'Mato Grosso do Sul'\n",
        "\n",
        "    filtro_MG = (df['UF'] == 'MG')\n",
        "    df.loc[filtro_MG, 'Estado'] = 'Minas Gerais'\n",
        "\n",
        "    filtro_PA = (df['UF'] == 'PA')\n",
        "    df.loc[filtro_PA, 'Estado'] = 'Pará'\n",
        "\n",
        "    filtro_PB = (df['UF'] == 'PB')\n",
        "    df.loc[filtro_PB, 'Estado'] = 'Paraíba'\n",
        "\n",
        "    filtro_PR = (df['UF'] == 'PR')\n",
        "    df.loc[filtro_PR, 'Estado'] = 'Paraná'\n",
        "\n",
        "    filtro_PE = (df['UF'] == 'PE')\n",
        "    df.loc[filtro_PE, 'Estado'] = 'Pernambuco'\n",
        "\n",
        "    filtro_PI = (df['UF'] == 'PI')\n",
        "    df.loc[filtro_PI, 'Estado'] = 'Piauí'\n",
        "\n",
        "    filtro_RJ = (df['UF'] == 'RJ')\n",
        "    df.loc[filtro_RJ, 'Estado'] = 'Rio de Janeiro'\n",
        "\n",
        "    filtro_RN = (df['UF'] == 'RN')\n",
        "    df.loc[filtro_RN, 'Estado'] = 'Rio Grande do Norte'\n",
        "\n",
        "    filtro_RS = (df['UF'] == 'RS')\n",
        "    df.loc[filtro_RS, 'Estado'] = 'Rio Grande do Sul'\n",
        "\n",
        "    filtro_RO = (df['UF'] == 'RO')\n",
        "    df.loc[filtro_RO, 'Estado'] = 'Rondônia'\n",
        "\n",
        "    filtro_RR = (df['UF'] == 'RR')\n",
        "    df.loc[filtro_RR, 'Estado'] = 'Roraima'\n",
        "\n",
        "    filtro_SC = (df['UF'] == 'SC')\n",
        "    df.loc[filtro_SC, 'Estado'] = 'Santa Catarina'\n",
        "\n",
        "    filtro_SP = (df['UF'] == 'SP')\n",
        "    df.loc[filtro_SP, 'Estado'] = 'São Paulo'\n",
        "\n",
        "    filtro_SE = (df['UF'] == 'SE')\n",
        "    df.loc[filtro_SE, 'Estado'] = 'Sergipe'\n",
        "\n",
        "    filtro_TO = (df['UF'] == 'TO')\n",
        "    df.loc[filtro_TO, 'Estado'] = 'Tocantins'\n",
        "\n",
        "    # Cria a coluna 'QtdVendas' com o valor de cada linha da tabela igual a 1, pois cada linha representa uma venda\n",
        "    df['QtdVendas'] = 1\n",
        "\n",
        "    # Cria coluna 'QtdCancelamentos' para todas as linhas que tenha valor de 'Status' Cancelado, substituindo seu valor\n",
        "    # True para 1 e False para 0\n",
        "    df['QtdCancelamentos'] = (df['Status'] == 'Cancelado')\n",
        "    df['QtdCancelamentos'] = df['QtdCancelamentos'].replace({True: 1, False: 0})\n",
        "\n",
        "    # Cria coluna 'QtdAprovados' para todas as linhas que tenha valor de 'Status' Aprovado, substituindo seu valor\n",
        "    # True para 1 e False para 0\n",
        "    df['QtdAprovados'] = (df['Status'] == 'Aprovado')\n",
        "    df['QtdAprovados'] = df['QtdAprovados'].replace({True: 1, False: 0})\n",
        "\n",
        "    # Agrupa os dados por 'Data', 'Estado' e 'UF', somando os valores númericos de 'QtdVendas', 'QtdCancelamentos',\n",
        "    # 'QtdAprovados e armazenas essas alterações no dataframe df\n",
        "    df = df.groupby(['Data', 'Estado', 'UF'], as_index=False)['QtdVendas', 'Cancelamentos', 'QtdAprovados'].\\\n",
        "        sum(numeric_only=True)\n",
        "\n",
        "    # Converte os dados das colunas 'Estados' e 'UF' para string\n",
        "    df['Estado'] = df['Estado'].convert_dtypes(convert_string=True)\n",
        "    df['UF'] = df['UF'].convert_dtypes(convert_string=True)\n",
        "\n",
        "    # Converte o dataframe df gerado para CSV sem salvar os índices, armazenando o arquivo na pasta output\n",
        "    df.to_csv('/content/output/desafio_hurb.csv', index=False)\n",
        "\n",
        "    # Converte o dataframe df gerado para JSON sem salvar os índices, com indentação de 4 linhas, armazenando o arquivo\n",
        "    # na pasta output\n",
        "    df.to_json('/content/output/desafio_hurb.json', orient='records', force_ascii=True, indent=4)\n"
      ],
      "metadata": {
        "id": "Lcb4OJt5YKeP",
        "colab": {
          "base_uri": "https://localhost:8080/",
          "height": 85
        },
        "outputId": "d481cdd4-ef8c-48d8-d97b-4243b354157a"
      },
      "execution_count": 15,
      "outputs": [
        {
          "output_type": "display_data",
          "data": {
            "text/plain": [
              "<IPython.core.display.HTML object>"
            ],
            "text/html": [
              "\n",
              "            <link rel=\"stylesheet\" href=\"https://stackpath.bootstrapcdn.com/bootstrap/4.4.1/css/bootstrap.min.css\" integrity=\"sha384-Vkoo8x4CGsO3+Hhxv8T/Q5PaXtkKtu6ug5TOeNV6gBiFeWPGFN9MuhOf23Q9Ifjh\" crossorigin=\"anonymous\">\n",
              "            <div id=\"progress_indicator_879f696567840aeecd875a3697e4973a\" class=\"spinner-border text-info\" role=\"status\">\n",
              "            </div>"
            ]
          },
          "metadata": {}
        },
        {
          "output_type": "stream",
          "name": "stderr",
          "text": [
            "WARNING:root:Make sure that locally built Python SDK docker image has Python 3.7 interpreter.\n"
          ]
        },
        {
          "output_type": "display_data",
          "data": {
            "application/javascript": [
              "\n",
              "        if (typeof window.interactive_beam_jquery == 'undefined') {\n",
              "          var jqueryScript = document.createElement('script');\n",
              "          jqueryScript.src = 'https://code.jquery.com/jquery-3.4.1.slim.min.js';\n",
              "          jqueryScript.type = 'text/javascript';\n",
              "          jqueryScript.onload = function() {\n",
              "            var datatableScript = document.createElement('script');\n",
              "            datatableScript.src = 'https://cdn.datatables.net/1.10.20/js/jquery.dataTables.min.js';\n",
              "            datatableScript.type = 'text/javascript';\n",
              "            datatableScript.onload = function() {\n",
              "              window.interactive_beam_jquery = jQuery.noConflict(true);\n",
              "              window.interactive_beam_jquery(document).ready(function($){\n",
              "                \n",
              "            $(\"#progress_indicator_879f696567840aeecd875a3697e4973a\").remove();\n",
              "              });\n",
              "            }\n",
              "            document.head.appendChild(datatableScript);\n",
              "          };\n",
              "          document.head.appendChild(jqueryScript);\n",
              "        } else {\n",
              "          window.interactive_beam_jquery(document).ready(function($){\n",
              "            \n",
              "            $(\"#progress_indicator_879f696567840aeecd875a3697e4973a\").remove();\n",
              "          });\n",
              "        }"
            ]
          },
          "metadata": {}
        },
        {
          "output_type": "stream",
          "name": "stderr",
          "text": [
            "/usr/local/lib/python3.7/dist-packages/ipykernel_launcher.py:125: FutureWarning: Indexing with multiple keys (implicitly converted to a tuple of keys) will be deprecated, use a list instead.\n"
          ]
        }
      ]
    }
  ]
}